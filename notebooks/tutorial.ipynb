{
 "cells": [
  {
   "cell_type": "code",
   "execution_count": 1,
   "metadata": {},
   "outputs": [],
   "source": [
    "import numpy as np\n",
    "import pandas as pd"
   ]
  },
  {
   "cell_type": "markdown",
   "metadata": {},
   "source": [
    "# Task 1 Calibrate accelerometer (get offset and scale value for each axis)\n",
    "\n",
    "Let us accept the following measurement model for a triad of orthogonal (mutually perpendicular) accelerometers:\n",
    "\n",
    "$a_{XYZ}= m_{a} \\cdot A_{XYZ}+b_{a} \\pm n_{a},$\n",
    "\n",
    "where $a_{XYZ}$ is the measured acceleration in the XYZ (own coordinate system), $m_{a}$ is the skew matrix of the axes and scale factors of the accelerometer, $A_{XYZ}$ is the true acceleration vector in the XYZ, $b_ {a}$ is the accelerometer zero offset vector, $n_{a}$ is the measurement noise.\n",
    "\n",
    "## $m_a$ term\n",
    "The skew matrix of axes and scale factors is as follows:\n",
    "\n",
    "$m_a = \\begin{bmatrix}\n",
    "1+ m_{a, 1, 1} & m_{a, 1, 2} &m_{a, 1, 3}\\\\\n",
    "m_{a, 2, 1} & 1 + m_{a, 2, 2} &m_{a, 2, 3}\\\\\n",
    "m_{a, 3, 1} & m_{a, 3, 2} & 1+ m_{a, 3, 3}\\\n",
    "\\end{bmatrix}\n",
    "$\n",
    "\n",
    "where the elements located along the main diagonal ($ 1+m_{a,1,1}, 1+m_{a,2,2}, 1+m_{a,3,3}$) are scale factors and their errors along three axes of the accelerometer, and the remaining elements of the matrix are distortions of the accelerometer axes.\n",
    "\n",
    "***We will consider only scale factors (main diagonal elements) since do not have appropriate equipment for axes distortion measurement.***\n",
    "\n",
    "## The accelerometer zero offset vector and measurement noise\n",
    "\n",
    "- To find zero offset vector we need to perform acceleration measurement in two configurations of your choice : (Local X axis aligned with gravity vector ($g$), Y aligned with $g$, Z aligned with $g$)\n",
    "- After applying zero offset, you should fins the measurement noise\n",
    "  \n",
    "\n",
    "## The true acceleration vector in the XYZ\n",
    "\n",
    "So, to get real acceleration vector, we need to normalize the measurement, by applying scaling and offset.\n",
    "\n",
    "$a_{XYZ}= m_{a} \\cdot A_{XYZ}+b_{a} \\pm n_{a},$"
   ]
  },
  {
   "cell_type": "code",
   "execution_count": 2,
   "metadata": {},
   "outputs": [
    {
     "data": {
      "text/html": [
       "<div>\n",
       "<style scoped>\n",
       "    .dataframe tbody tr th:only-of-type {\n",
       "        vertical-align: middle;\n",
       "    }\n",
       "\n",
       "    .dataframe tbody tr th {\n",
       "        vertical-align: top;\n",
       "    }\n",
       "\n",
       "    .dataframe thead th {\n",
       "        text-align: right;\n",
       "    }\n",
       "</style>\n",
       "<table border=\"1\" class=\"dataframe\">\n",
       "  <thead>\n",
       "    <tr style=\"text-align: right;\">\n",
       "      <th></th>\n",
       "      <th>acc</th>\n",
       "      <th>gyr</th>\n",
       "      <th>mag</th>\n",
       "      <th>tem</th>\n",
       "      <th>time</th>\n",
       "    </tr>\n",
       "  </thead>\n",
       "  <tbody>\n",
       "    <tr>\n",
       "      <th>0</th>\n",
       "      <td>[-0.7565677, 0.03591302, 9.667787]</td>\n",
       "      <td>[0.01204548, -0.007107055, 0.003758054]</td>\n",
       "      <td>[-38.52066, 66.25362, 12.69864]</td>\n",
       "      <td>26.73577</td>\n",
       "      <td>2024-02-12 09:22:50.644832</td>\n",
       "    </tr>\n",
       "    <tr>\n",
       "      <th>1</th>\n",
       "      <td>[-0.7350199, 0.05267244, 9.569624]</td>\n",
       "      <td>[0.01284487, -0.006440899, 0.004690672]</td>\n",
       "      <td>[-36.70985, 66.44992, 12.87141]</td>\n",
       "      <td>27.11915</td>\n",
       "      <td>2024-02-12 09:22:50.754907</td>\n",
       "    </tr>\n",
       "    <tr>\n",
       "      <th>2</th>\n",
       "      <td>[-0.6871359, 0.08140286, 9.562442]</td>\n",
       "      <td>[0.007249154, -0.00124488, 0.006156216]</td>\n",
       "      <td>[-37.53294, 66.64623, 13.04418]</td>\n",
       "      <td>27.11915</td>\n",
       "      <td>2024-02-12 09:22:50.864708</td>\n",
       "    </tr>\n",
       "    <tr>\n",
       "      <th>3</th>\n",
       "      <td>[-0.7206547, 0.02873042, 9.540894]</td>\n",
       "      <td>[0.008581459, 0.0003538951, 0.002692204]</td>\n",
       "      <td>[-38.0268, 67.23515, 14.25358]</td>\n",
       "      <td>26.92746</td>\n",
       "      <td>2024-02-12 09:22:50.974826</td>\n",
       "    </tr>\n",
       "    <tr>\n",
       "      <th>4</th>\n",
       "      <td>[-0.7469909, 0.07182605, 9.586384]</td>\n",
       "      <td>[-0.009271525, -0.001777805, -0.002237353]</td>\n",
       "      <td>[-37.86218, 67.43146, 14.42635]</td>\n",
       "      <td>27.11915</td>\n",
       "      <td>2024-02-12 09:22:51.084786</td>\n",
       "    </tr>\n",
       "  </tbody>\n",
       "</table>\n",
       "</div>"
      ],
      "text/plain": [
       "                                  acc  \\\n",
       "0  [-0.7565677, 0.03591302, 9.667787]   \n",
       "1  [-0.7350199, 0.05267244, 9.569624]   \n",
       "2  [-0.6871359, 0.08140286, 9.562442]   \n",
       "3  [-0.7206547, 0.02873042, 9.540894]   \n",
       "4  [-0.7469909, 0.07182605, 9.586384]   \n",
       "\n",
       "                                          gyr  \\\n",
       "0     [0.01204548, -0.007107055, 0.003758054]   \n",
       "1     [0.01284487, -0.006440899, 0.004690672]   \n",
       "2     [0.007249154, -0.00124488, 0.006156216]   \n",
       "3    [0.008581459, 0.0003538951, 0.002692204]   \n",
       "4  [-0.009271525, -0.001777805, -0.002237353]   \n",
       "\n",
       "                               mag       tem                        time  \n",
       "0  [-38.52066, 66.25362, 12.69864]  26.73577  2024-02-12 09:22:50.644832  \n",
       "1  [-36.70985, 66.44992, 12.87141]  27.11915  2024-02-12 09:22:50.754907  \n",
       "2  [-37.53294, 66.64623, 13.04418]  27.11915  2024-02-12 09:22:50.864708  \n",
       "3   [-38.0268, 67.23515, 14.25358]  26.92746  2024-02-12 09:22:50.974826  \n",
       "4  [-37.86218, 67.43146, 14.42635]  27.11915  2024-02-12 09:22:51.084786  "
      ]
     },
     "execution_count": 2,
     "metadata": {},
     "output_type": "execute_result"
    }
   ],
   "source": [
    "df = pd.read_csv(\"../imu_results.csv\", sep=\";\")\n",
    "\n",
    "df.head()"
   ]
  },
  {
   "cell_type": "code",
   "execution_count": 16,
   "metadata": {},
   "outputs": [
    {
     "name": "stdout",
     "output_type": "stream",
     "text": [
      "[[-0.7565677   0.03591302  9.667787  ]\n",
      " [-0.7350199   0.05267244  9.569624  ]\n",
      " [-0.6871359   0.08140286  9.562442  ]\n",
      " [-0.7206547   0.02873042  9.540894  ]\n",
      " [-0.7469909   0.07182605  9.586384  ]\n",
      " [-0.6823475   0.07661445  9.572019  ]\n",
      " [-0.7230489   0.06703765  9.572019  ]\n",
      " [-0.6895301   0.07182605  9.543288  ]\n",
      " [-0.7182605   0.06464344  9.617508  ]\n",
      " [-0.6943185   0.07182605  9.56723   ]\n",
      " [-0.7326257   0.09097966  9.586384  ]\n",
      " [-0.7254431   0.08379706  9.572019  ]\n",
      " [-0.7422025   0.08379706  9.569624  ]\n",
      " [-0.6871359   0.05985504  9.579201  ]\n",
      " [-0.6967127   0.09097966  9.557653  ]\n",
      " [-0.7038953   0.03830723  9.555259  ]\n",
      " [-0.6919243   0.04788403  9.548077  ]\n",
      " [-0.7374141   0.08140286  9.593566  ]\n",
      " [-0.7230489   0.07422025  9.552865  ]]\n"
     ]
    }
   ],
   "source": [
    "import ast\n",
    "\n",
    "def read_data(df: pd.DataFrame, key=\"acc\"):\n",
    "    a = df[key].apply(lambda x: list(ast.literal_eval(x)))\n",
    "    a = a.iloc[:].to_list()\n",
    "    a = np.array(a)\n",
    "    print(a)\n",
    "    ax = a[:, 0]\n",
    "    ay = a[:,1]\n",
    "    az = a[:,2]\n",
    "    return ax, ay, az\n",
    "\n",
    "ax, ay, az = read_data(df, key=\"acc\")"
   ]
  },
  {
   "cell_type": "markdown",
   "metadata": {},
   "source": [
    "Find scales and offsets for each axis"
   ]
  },
  {
   "cell_type": "code",
   "execution_count": null,
   "metadata": {},
   "outputs": [],
   "source": [
    "df_z_axis_aligned_with_g = ...\n",
    "df_y_axis_aligned_with_g = ...\n",
    "df_x_axis_aligned_with_g = ..."
   ]
  },
  {
   "cell_type": "code",
   "execution_count": null,
   "metadata": {},
   "outputs": [],
   "source": [
    "# get acc and mag data\n",
    "...\n"
   ]
  },
  {
   "cell_type": "code",
   "execution_count": null,
   "metadata": {},
   "outputs": [],
   "source": [
    "# calculate the acc offset and scale\n",
    "\n",
    "offset_acc_x = ... # get mean value for X axis data when the gravity aligned with other axis\n",
    "offset_acc_y = ... # get mean value for Y axis data when the gravity aligned with other axis\n",
    "offset_acc_z = ... # get mean value for Z axis data when the gravity aligned with other axis\n",
    "\n",
    "scale_acc_x = ... # get mean value for X axis with applied offset, when the the gravity aligned with X axis\n",
    "scale_acc_y = ... # get mean value for Y axis with applied offset, when the the gravity aligned with Y axis\n",
    "scale_acc_z = ... # get mean value for Z axis with applied offset, when the the gravity aligned with Z axis\n"
   ]
  },
  {
   "cell_type": "code",
   "execution_count": null,
   "metadata": {},
   "outputs": [],
   "source": [
    "# apply the scaling and offset\n",
    "\n",
    "..."
   ]
  },
  {
   "cell_type": "code",
   "execution_count": null,
   "metadata": {},
   "outputs": [],
   "source": [
    "# Find noise form calibrated data as RMSE\n",
    "\n",
    "sigma = ..."
   ]
  },
  {
   "cell_type": "markdown",
   "metadata": {},
   "source": [
    "# Task 2 Calibrate magnetometer (scale value for each axis)\n",
    "\n",
    "The same as accelerometer measurement"
   ]
  },
  {
   "cell_type": "code",
   "execution_count": 1,
   "metadata": {},
   "outputs": [
    {
     "data": {
      "text/plain": [
       "Ellipsis"
      ]
     },
     "execution_count": 1,
     "metadata": {},
     "output_type": "execute_result"
    }
   ],
   "source": [
    "..."
   ]
  },
  {
   "cell_type": "markdown",
   "metadata": {},
   "source": [
    "## Recalculate the magnetometer data according to the local coordinate frame\n",
    "\n"
   ]
  },
  {
   "cell_type": "markdown",
   "metadata": {},
   "source": [
    "# Check the results via plotting the graphs"
   ]
  },
  {
   "cell_type": "code",
   "execution_count": null,
   "metadata": {},
   "outputs": [],
   "source": [
    "from drawing import plot_imu_data\n",
    "import matplotlib.pyplot as plt\n",
    "\n",
    "time = np.linspace(0, 1, ax.shape[0])\n",
    "fig, axs = plt.subplots(ncols=1, nrows=3, figsize=(18 * 2, 6 * 3))\n",
    "\n",
    "plot_imu_data(accels=..., gyros=..., magnets=..., time=time, fig=fig, axs=axs)\n",
    "plt.show()"
   ]
  },
  {
   "cell_type": "markdown",
   "metadata": {},
   "source": [
    "# Task 3 Using the formulas, calculate roll, pitch, yaw\n",
    "\n",
    "$roll'=atan \\left ( \\frac{a_{Y}}{a_{Z}} \\right ),$\n",
    "\n",
    "$pitch'=atan\\left ( \\frac{-a_{X}}{\\sqrt{a_{Y}^{2}+a_{Z}^{2}}} \\right ).$\n",
    "\n",
    "$yaw'=atan2\\left ( \\frac{m_{Y'}}{m_{X'}} \\right ).$\n",
    "\n",
    "From the random angles roll, pitch, yaw, a transformation matrix is formed from its own XYZ coordinate system to the local ENU coordinate system:"
   ]
  },
  {
   "cell_type": "code",
   "execution_count": null,
   "metadata": {},
   "outputs": [],
   "source": []
  },
  {
   "cell_type": "markdown",
   "metadata": {},
   "source": [
    "## Check the yaw and roll/pitch correctness\n",
    "\n"
   ]
  }
 ],
 "metadata": {
  "kernelspec": {
   "display_name": "notebooks",
   "language": "python",
   "name": "python3"
  },
  "language_info": {
   "codemirror_mode": {
    "name": "ipython",
    "version": 3
   },
   "file_extension": ".py",
   "mimetype": "text/x-python",
   "name": "python",
   "nbconvert_exporter": "python",
   "pygments_lexer": "ipython3",
   "version": "3.10.12"
  }
 },
 "nbformat": 4,
 "nbformat_minor": 2
}
